{
 "cells": [
  {
   "cell_type": "markdown",
   "metadata": {},
   "source": [
    "# Web Mining and Applied NLP (44-620)\n",
    "\n",
    "## Requests, JSON, and NLP\n",
    "\n",
    "### Student Name: Solomon Stevens [GitHub Repository:](https://github.com/Stone-Snevets/web-04-wmnlp_materials.git)\n",
    "\n",
    "Perform the tasks described in the Markdown cells below.  When you have completed the assignment make sure your code cells have all been run (and have output beneath them) and ensure you have committed and pushed ALL of your changes to your assignment repository.\n",
    "\n",
    "Make sure you have [installed spaCy and its pipeline](https://spacy.io/usage#quickstart) and [spaCyTextBlob](https://spacy.io/universe/project/spacy-textblob)\n",
    "\n",
    "Every question that requires you to write code will have a code cell underneath it; you may either write your entire solution in that cell or write it in a python file (`.py`), then import and run the appropriate code to answer the question.\n",
    "\n",
    "This assignment requires that you write additional files (either JSON or pickle files); make sure to submit those files in your repository as well."
   ]
  },
  {
   "cell_type": "markdown",
   "metadata": {},
   "source": [
    "### Question 1\n",
    "The following code accesses the [lyrics.ovh](https://lyricsovh.docs.apiary.io/#reference/0/lyrics-of-a-song/search) public api, searches for the lyrics of a song, and stores it in a dictionary object.  Write the resulting json to a file (either a JSON file or a pickle file; you choose). You will read in the contents of this file for future questions so we do not need to frequently access the API."
   ]
  },
  {
   "cell_type": "code",
   "execution_count": 3,
   "metadata": {},
   "outputs": [],
   "source": [
    "import requests\n",
    "import json\n",
    "\n",
    "result = json.loads(requests.get('https://api.lyrics.ovh/v1/They Might Be Giants/Birdhouse in your soul').text)\n"
   ]
  },
  {
   "cell_type": "code",
   "execution_count": 4,
   "metadata": {},
   "outputs": [],
   "source": [
    "# Convert 'result' to string value\n",
    "result_str = json.dumps(result)\n",
    "\n",
    "# Generate a new file to write into\n",
    "json_file = open('results_file.json', 'w')\n",
    "\n",
    "# Write 'result_str' into the new file\n",
    "json_file.write(result_str)\n",
    "\n",
    "# Close file\n",
    "json_file.close()"
   ]
  },
  {
   "cell_type": "markdown",
   "metadata": {},
   "source": [
    "### Question 2\n",
    "Read in the contents of your file.  Print the lyrics of the song (not the entire dictionary!) and use spaCyTextBlob to perform sentiment analysis on the lyrics.  Print the polarity score of the sentiment analysis.  Given that the range of the polarity score is `[-1.0,1.0]` which corresponds to how positive or negative the text in question is, do you think the lyrics have a more positive or negative connotaion?  Answer this question in a comment in your code cell."
   ]
  },
  {
   "cell_type": "code",
   "execution_count": 12,
   "metadata": {},
   "outputs": [
    {
     "name": "stdout",
     "output_type": "stream",
     "text": [
      "Paroles de la chanson Birdhouse In Your Soul par They Might Be Giants\n",
      "I'm Your Only Friend\n",
      "\n",
      "I'm Not Your Only Friend\n",
      "\n",
      "But I'm A Little Glowing Friend\n",
      "\n",
      "But Really I'm Not Actually Your Friend\n",
      "\n",
      "But I Am\n",
      "\n",
      "Blue Canary In The Outlet By The Light Switch\n",
      "\n",
      "Who Watches Over You\n",
      "\n",
      "Make A Little Birdhouse In Your Soul\n",
      "\n",
      "Not To Put Too Fine A Point On It\n",
      "\n",
      "Say I'm The Only Bee In Your Bonnet\n",
      "\n",
      "Make A Little Birdhouse In Your Soul\n",
      "\n",
      "I Have A Secret To Tell\n",
      "\n",
      "From My Electrical Well\n",
      "\n",
      "It's A Simple Message And I'm Leaving Out The Whistles And Bells\n",
      "\n",
      "So The Room Must Listen To Me\n",
      "\n",
      "\n",
      "Filibuster Vigilantly\n",
      "\n",
      "My Name Is Blue Canary One Note Spelled Lite\n",
      "\n",
      "My Story's Infinite\n",
      "\n",
      "Like The Longines Symphonette It Doesn't Rest\n",
      "\n",
      "Blue Canary In The Outlet By The Light Switch\n",
      "\n",
      "Who Watches Over You\n",
      "\n",
      "Make A Little Birdhouse In Your Soul\n",
      "\n",
      "Not To Put Too Fine A Point On It\n",
      "\n",
      "Say I'm The Only Bee In Your Bonnet\n",
      "\n",
      "Make A Little Birdhouse In Your Soul\n",
      "\n",
      "I'm Your Only Friend\n",
      "\n",
      "I'm Not Your Only Friend\n",
      "\n",
      "But I'm A Little Glowing Friend\n",
      "\n",
      "But Really I'm Not Actually Your Friend\n",
      "\n",
      "But I Am\n",
      "\n",
      "There's A Picture Opposite Me\n",
      "\n",
      "Of My Primitive Ancestry\n",
      "\n",
      "Which Stood On Rocky Shores And Kept The Beaches Shipwreck Free\n",
      "\n",
      "\n",
      "Though I Respect That A Lot\n",
      "\n",
      "I'd Be Fired If That Were My Job\n",
      "\n",
      "After Killing Jason Off And Countless Screaming Argonauts\n",
      "\n",
      "Bluebird Of Friendliness\n",
      "\n",
      "Like Guardian Angels Its Always Near\n",
      "\n",
      "Blue Canary In The Outlet By The Light Switch\n",
      "\n",
      "Who Watches Over You\n",
      "\n",
      "Make A Little Birdhouse In Your Soul\n",
      "\n",
      "Not To Put Too Fine A Point On It\n",
      "\n",
      "Say I'm The Only Bee In Your Bonnet\n",
      "\n",
      "Make A Little Birdhouse In Your Soul\n",
      "\n",
      "(And While You're At It\n",
      "\n",
      "Keep The Nightlight On Inside The\n",
      "\n",
      "Birdhouse In Your Soul)\n",
      "\n",
      "Not To Put Too Fine A Point On It\n",
      "\n",
      "Say I'm The Only Bee In Your Bonnet\n",
      "\n",
      "Make A Little Birdhouse In Your Soul\n",
      "\n",
      "\n",
      "Blue Canary In The Outlet By The Light Switch (And While You're At It)\n",
      "\n",
      "Who Watches Over You (Keep The Nightlight On Inside The)\n",
      "\n",
      "Make A L\n",
      "\n",
      "\n",
      "Polarity: 0.04418859649122807\n"
     ]
    }
   ],
   "source": [
    "# --- Print Lyrics of Song ---\n",
    "# Read in contents of file\n",
    "read_file = open('results_file.json', 'r')\n",
    "\n",
    "# Retrieve lyrics\n",
    "lyrics_of_song = json.load(read_file)['lyrics']\n",
    "\n",
    "# Print lyrics\n",
    "print(lyrics_of_song)\n",
    "\n",
    "# --- Sentiment Analysis ---\n",
    "# Imports\n",
    "import spacy\n",
    "from spacytextblob.spacytextblob import SpacyTextBlob\n",
    "\n",
    "# Generate an NLP\n",
    "nlp = spacy.load('en_core_web_sm')\n",
    "\n",
    "# Add spacytextblob to the pipeline\n",
    "nlp.add_pipe('spacytextblob')\n",
    "\n",
    "# Generate a Doc\n",
    "doc = nlp(lyrics_of_song)\n",
    "\n",
    "# Find the polarity score\n",
    "print('\\n\\nPolarity:',doc._.blob.polarity)\n",
    "\n",
    "# --- Thoughts ---\n",
    "# Judging from the polarity score, we can conclude that the\n",
    "# lyrics are slightly more POSITIVE in connotation.\n"
   ]
  },
  {
   "cell_type": "markdown",
   "metadata": {},
   "source": [
    "### Question 3\n",
    "Write a function that takes an artist, song, and filename, accesses the lyrics.ovh api to get the song lyrics, and writes the results to the specified filename.  Test this function by getting the lyrics to any four songs of your choice and storing them in different files."
   ]
  },
  {
   "cell_type": "code",
   "execution_count": 28,
   "metadata": {},
   "outputs": [],
   "source": [
    "# Define function\n",
    "def find_lyrics_of_song(artist, title, filename):\n",
    "    # Retrieve the song lyrics\n",
    "    song = requests.get(f'https://api.lyrics.ovh/v1/{artist}/{title}').text\n",
    "    song_lyrics = json.loads(song)['lyrics']\n",
    "\n",
    "    # Open the file\n",
    "    file_of_lyrics = open(filename, 'w')\n",
    "\n",
    "    # Write the song lyrics to the file\n",
    "    lyrics_output = file_of_lyrics.write(json.dumps(song_lyrics))\n",
    "\n",
    "    # Close the file\n",
    "    file_of_lyrics.close()\n",
    "\n",
    "    # Return output\n",
    "    return lyrics_output"
   ]
  },
  {
   "cell_type": "code",
   "execution_count": 18,
   "metadata": {},
   "outputs": [
    {
     "data": {
      "text/plain": [
       "1934"
      ]
     },
     "execution_count": 18,
     "metadata": {},
     "output_type": "execute_result"
    }
   ],
   "source": [
    "# ----- Call 1 -----\n",
    "find_lyrics_of_song('skillet', 'valley of death', 'skillet-valley_of_death.json')"
   ]
  },
  {
   "cell_type": "code",
   "execution_count": 19,
   "metadata": {},
   "outputs": [
    {
     "data": {
      "text/plain": [
       "1659"
      ]
     },
     "execution_count": 19,
     "metadata": {},
     "output_type": "execute_result"
    }
   ],
   "source": [
    "# ----- Call 2 -----\n",
    "find_lyrics_of_song('zach williams', 'old church choir', 'zach_williams-old_church_choir.json')"
   ]
  },
  {
   "cell_type": "code",
   "execution_count": 20,
   "metadata": {},
   "outputs": [
    {
     "data": {
      "text/plain": [
       "1862"
      ]
     },
     "execution_count": 20,
     "metadata": {},
     "output_type": "execute_result"
    }
   ],
   "source": [
    "# ----- Call 3 -----\n",
    "find_lyrics_of_song('chris tomlin', 'good good father', 'chris_tomlin-good_good_father.json')"
   ]
  },
  {
   "cell_type": "code",
   "execution_count": 29,
   "metadata": {},
   "outputs": [
    {
     "data": {
      "text/plain": [
       "1184"
      ]
     },
     "execution_count": 29,
     "metadata": {},
     "output_type": "execute_result"
    }
   ],
   "source": [
    "# ----- Call 4 -----\n",
    "find_lyrics_of_song('red', 'falling sky', 'red-falling_sky.json')"
   ]
  },
  {
   "cell_type": "markdown",
   "metadata": {},
   "source": [
    "### Question 4\n",
    "Write a function that takes the name of a file that contains song lyrics, loads the file, performs sentiment analysis, and returns the polarity score.  Use this function to print the polarity scores (with the name of the song) of the three files you created in question 3.  Does the reported polarity match your understanding of the song's lyrics? Why or why not do you think that might be?  Answer the questions in either a comment in the code cell or a markdown cell under the code cell."
   ]
  },
  {
   "cell_type": "code",
   "execution_count": 23,
   "metadata": {},
   "outputs": [],
   "source": [
    "# Define function\n",
    "def polarity_of_song(filename):\n",
    "    # Open the file\n",
    "    file_with_lyrics = open(filename, 'r')\n",
    "\n",
    "    # Read in lyrics\n",
    "    lyrics = json.load(file_with_lyrics)\n",
    "\n",
    "    #Find polarity score\n",
    "    #-> Generate a Doc\n",
    "    doc = nlp(lyrics)\n",
    "\n",
    "    #-> Calculate the polarity score\n",
    "    polarity_score = doc._.blob.polarity\n",
    "\n",
    "    # Close file\n",
    "    file_with_lyrics.close()\n",
    "\n",
    "    # Print polarity score\n",
    "    print('File Name:\\t', filename)\n",
    "    print('Polarity Score:\\t', polarity_score)"
   ]
  },
  {
   "cell_type": "code",
   "execution_count": 24,
   "metadata": {},
   "outputs": [
    {
     "name": "stdout",
     "output_type": "stream",
     "text": [
      "File Name:\t skillet-valley_of_death.json\n",
      "Polarity Score:\t 0.2538888888888889\n"
     ]
    }
   ],
   "source": [
    "# ----- Call 1 -----\n",
    "polarity_of_song('skillet-valley_of_death.json')"
   ]
  },
  {
   "cell_type": "code",
   "execution_count": 25,
   "metadata": {},
   "outputs": [
    {
     "name": "stdout",
     "output_type": "stream",
     "text": [
      "File Name:\t zach_williams-old_church_choir.json\n",
      "Polarity Score:\t 0.5187499999999999\n"
     ]
    }
   ],
   "source": [
    "# ----- Call 2 -----\n",
    "polarity_of_song('zach_williams-old_church_choir.json')"
   ]
  },
  {
   "cell_type": "code",
   "execution_count": 26,
   "metadata": {},
   "outputs": [
    {
     "name": "stdout",
     "output_type": "stream",
     "text": [
      "File Name:\t chris_tomlin-good_good_father.json\n",
      "Polarity Score:\t 0.5978632478632476\n"
     ]
    }
   ],
   "source": [
    "# ----- Call 3 -----\n",
    "polarity_of_song('chris_tomlin-good_good_father.json')\n"
   ]
  },
  {
   "cell_type": "code",
   "execution_count": 30,
   "metadata": {},
   "outputs": [
    {
     "name": "stdout",
     "output_type": "stream",
     "text": [
      "File Name:\t red-falling_sky.json\n",
      "Polarity Score:\t 0.14444444444444446\n"
     ]
    }
   ],
   "source": [
    "# ----- Call 4 -----\n",
    "polarity_of_song('red-falling_sky.json')"
   ]
  },
  {
   "cell_type": "markdown",
   "metadata": {},
   "source": [
    "### Question 4 Thoughts\n",
    "* Skillet - Valley of Death:  I find this song to have a higher polarity score than expected.\n",
    "* Zach Williams - Old Church Choir:  This song is rather lively, so a high polarity score is understandable.\n",
    "* Chris Tomlin - Good Good Father:  I was surprised to find it higher than Old Church Choir.\n",
    "* Red - Falling Sky:  This is much higher than I expected as the song is rather depressing."
   ]
  }
 ],
 "metadata": {
  "kernelspec": {
   "display_name": "Python 3 (ipykernel)",
   "language": "python",
   "name": "python3"
  },
  "language_info": {
   "codemirror_mode": {
    "name": "ipython",
    "version": 3
   },
   "file_extension": ".py",
   "mimetype": "text/x-python",
   "name": "python",
   "nbconvert_exporter": "python",
   "pygments_lexer": "ipython3",
   "version": "3.11.8"
  }
 },
 "nbformat": 4,
 "nbformat_minor": 4
}
